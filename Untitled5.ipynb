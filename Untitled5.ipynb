{
  "nbformat": 4,
  "nbformat_minor": 0,
  "metadata": {
    "colab": {
      "name": "Untitled5.ipynb",
      "provenance": []
    },
    "kernelspec": {
      "name": "python3",
      "display_name": "Python 3"
    },
    "language_info": {
      "name": "python"
    }
  },
  "cells": [
    {
      "cell_type": "markdown",
      "metadata": {
        "id": "9BidItVsB5nW"
      },
      "source": [
        "1. scrivere una funzione chiamata media che dati due numeri restituisca la media. Utilizzare poi la funzione in un programma che acquisisca dall'utente due numeri e calcoli la media\n"
      ]
    },
    {
      "cell_type": "code",
      "metadata": {
        "id": "DSWcJ-MFA78z"
      },
      "source": [
        "def media(x,y):\n",
        "  return (x + y) /2\n",
        "x,y = int(input()),int(input())\n",
        "media(x,y)\n"
      ],
      "execution_count": null,
      "outputs": []
    },
    {
      "cell_type": "markdown",
      "metadata": {
        "id": "cAWvfjBuCFem"
      },
      "source": [
        " scrivere una funzione chiamata piuCorta che date due liste restituisca la lista con meno elementi. Utilizzare poi la funzione in un programma che acquisisca dall'utente due liste e visualizzi gli elementi della lista più corta.\n"
      ]
    },
    {
      "cell_type": "code",
      "metadata": {
        "id": "wdGnHm7wCExq"
      },
      "source": [
        "def piuCorta(list1,list2):\n",
        "  if len(list1) >len(list1):\n",
        "    return list1\n",
        "  else:\n",
        "    return list2\n",
        "\n",
        "list1 = input().split()\n",
        "list2 = input().split()\n",
        "piuCorta(list1,list2)\n"
      ],
      "execution_count": null,
      "outputs": []
    },
    {
      "cell_type": "markdown",
      "metadata": {
        "id": "HVwBOcuaCjVG"
      },
      "source": [
        "scrivere una funzione chiamata costruisciLista che dati due numeri interi restituisca la lista formata da tutti i numeri interi compresi tra i due numeri dati. Utilizzare poi la funzione in un programma che acquisisca dall'utente due numeri e visualizzi la lista formata da tutti i numeri interi compresi tra i due numeri dati ma a partire dal più grande fino al più piccolo."
      ]
    },
    {
      "cell_type": "code",
      "metadata": {
        "id": "sGn3mguZClGc"
      },
      "source": [
        "def costruiciLista(x,y):\n",
        "  res = []\n",
        "  while(x < y+1 ):\n",
        "        \n",
        "      res.append(x)\n",
        "      x += 1\n",
        "  return res\n",
        "x,y = int(input()),int(input())\n",
        "costruiciLista(x,y)\n"
      ],
      "execution_count": null,
      "outputs": []
    },
    {
      "cell_type": "markdown",
      "metadata": {
        "id": "DxrnurknInam"
      },
      "source": [
        "scrivere una funzione chiamata valoreAssoluto che dato un numero restituisca il suo valore assoluto. Utilizzare poi questa funzione per determinare il valore assoluto degli elementi di una lista inserita dall'utente.\n"
      ]
    },
    {
      "cell_type": "code",
      "metadata": {
        "id": "siYIiXgPIo10"
      },
      "source": [
        "def valoreAssoluto(lista):\n",
        "  res = abs(n)\n",
        "  return res\n",
        "lista = list(map(int,input().split()))\n",
        "lst = []\n",
        "for n in lista:\n",
        "  lst.append(valoreAssoluto(n))\n",
        "print(lst)"
      ],
      "execution_count": null,
      "outputs": []
    },
    {
      "cell_type": "markdown",
      "metadata": {
        "id": "o8D-ap5vI1qN"
      },
      "source": [
        "5. scrivere una funzione chiamata scambia che data una lista scambi il primo elemento con l'ultimo, il secondo con il penultimo e così via. Utilizzare poi la funzione in un programma che acquisisca dall'utente una lista di 10 elementi e li visualizzi scambiati."
      ]
    },
    {
      "cell_type": "code",
      "metadata": {
        "id": "ae5efZm-I7Wg"
      },
      "source": [
        "def scambio(alist):\n",
        "  return alist[::-1]\n",
        "\n",
        "lista = [3,4,7,4,9,12,145,18]\n",
        "scambio(lista)\n"
      ],
      "execution_count": null,
      "outputs": []
    },
    {
      "cell_type": "markdown",
      "metadata": {
        "id": "OLWLS77vKXF5"
      },
      "source": [
        "scrivere una funzione lambda che dati due numeri calcoli la loro somma. Utilizzare la funzione in un programma che chieda all'utente due numeri interi e visualizzi la loro somma."
      ]
    },
    {
      "cell_type": "code",
      "metadata": {
        "id": "H6qJiVNgKYnK"
      },
      "source": [
        "x,y = int(input()),int(input())\n",
        "somma = lambda x, y : x + y\n",
        "somma(x,y)\n"
      ],
      "execution_count": null,
      "outputs": []
    }
  ]
}