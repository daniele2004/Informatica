{
  "nbformat": 4,
  "nbformat_minor": 0,
  "metadata": {
    "colab": {
      "name": "Untitled2.ipynb",
      "provenance": []
    },
    "kernelspec": {
      "name": "python3",
      "display_name": "Python 3"
    },
    "language_info": {
      "name": "python"
    }
  },
  "cells": [
    {
      "cell_type": "markdown",
      "metadata": {
        "id": "4Frie22Odcvo"
      },
      "source": [
        "Esercizio 1"
      ]
    },
    {
      "cell_type": "code",
      "metadata": {
        "colab": {
          "base_uri": "https://localhost:8080/"
        },
        "id": "1jzblXx6cSCL",
        "outputId": "e271e84b-264b-4feb-9a68-858c5c286e9f"
      },
      "source": [
        " a = int(input(\"insiersci primo numero\"))\n",
        " b = int(input(\"insiersci secondo numero\"))\n",
        " c = int(input(\"insiersci terzo numero\"))\n",
        " media = (a+b+c) /3\n",
        " print(\"risultato\",+ media)"
      ],
      "execution_count": null,
      "outputs": [
        {
          "output_type": "stream",
          "name": "stdout",
          "text": [
            "insiersci primo numero4\n",
            "insiersci secondo numero5\n",
            "insiersci terzo numero6\n",
            "risultato 5.0\n"
          ]
        }
      ]
    },
    {
      "cell_type": "markdown",
      "metadata": {
        "id": "64dI4G_zfFfH"
      },
      "source": [
        "Esercizio 2"
      ]
    },
    {
      "cell_type": "code",
      "metadata": {
        "colab": {
          "base_uri": "https://localhost:8080/"
        },
        "id": "kPX0J7PVdhu4",
        "outputId": "dbe68131-a772-4fc5-c039-2e737b47d9ba"
      },
      "source": [
        "import math\n",
        "r = int(input(\"insiersci il raggio\"))\n",
        "a = r**2*math.pi\n",
        "print(round(a,2))"
      ],
      "execution_count": null,
      "outputs": [
        {
          "output_type": "stream",
          "name": "stdout",
          "text": [
            "insiersci il raggio1\n",
            "3.14\n"
          ]
        }
      ]
    },
    {
      "cell_type": "markdown",
      "metadata": {
        "id": "SiDwuIbnfHgq"
      },
      "source": [
        "Esercizio 3"
      ]
    },
    {
      "cell_type": "code",
      "metadata": {
        "colab": {
          "base_uri": "https://localhost:8080/"
        },
        "id": "HfmrMTTOfJTE",
        "outputId": "9c67b08e-8e1b-476a-cd25-a1564c242206"
      },
      "source": [
        "n = (input(\"insiersci nome \"))\n",
        "c = (input(\"insiersci cognome\"))\n",
        "print(\"ciao\",n.title(),c.title())\n"
      ],
      "execution_count": null,
      "outputs": [
        {
          "output_type": "stream",
          "name": "stdout",
          "text": [
            "insiersci nome ewfR\n",
            "insiersci cognomeefTg\n",
            "ciao Ewfr Eftg\n"
          ]
        }
      ]
    },
    {
      "cell_type": "markdown",
      "metadata": {
        "id": "dNRZCT4YgNM_"
      },
      "source": [
        "Esercizio 4"
      ]
    },
    {
      "cell_type": "code",
      "metadata": {
        "colab": {
          "base_uri": "https://localhost:8080/"
        },
        "id": "0iuYEOG8gvv_",
        "outputId": "47ff7127-b3eb-4030-cff6-6645bb7d40a1"
      },
      "source": [
        "frase = (input(\"insiersci la frase\"))\n",
        "lista = frase.split()\n",
        "print(len(lista))"
      ],
      "execution_count": null,
      "outputs": [
        {
          "output_type": "stream",
          "name": "stdout",
          "text": [
            "insiersci la fraseg 5g egegg es fs\n",
            "5\n"
          ]
        }
      ]
    },
    {
      "cell_type": "markdown",
      "metadata": {
        "id": "dty3y83kgQLU"
      },
      "source": [
        "Esercizio5"
      ]
    },
    {
      "cell_type": "code",
      "metadata": {
        "colab": {
          "base_uri": "https://localhost:8080/"
        },
        "id": "dCaiNyicheXA",
        "outputId": "fc734179-f214-400e-87bf-ac55fde0a0b3"
      },
      "source": [
        "frase = (input(\"insiersci la frase\"))\n",
        "lista = frase.split()\n",
        "lista.sort()\n",
        "print(lista)\n"
      ],
      "execution_count": null,
      "outputs": [
        {
          "output_type": "stream",
          "name": "stdout",
          "text": [
            "insiersci la frasewrfwrgegn egeg\n",
            "['egeg', 'wrfwrgegn']\n"
          ]
        }
      ]
    },
    {
      "cell_type": "markdown",
      "metadata": {
        "id": "Vi_Hl1zBjYfo"
      },
      "source": [
        "Esercizio 6"
      ]
    },
    {
      "cell_type": "code",
      "metadata": {
        "colab": {
          "base_uri": "https://localhost:8080/"
        },
        "id": "VyXKlHR4jX7A",
        "outputId": "99a385b9-e09a-4ca9-ec48-e5127d529551"
      },
      "source": [
        "frase = (input(\"insiersci la frase\"))\n",
        "lista = frase.split()\n",
        "print(lista[-3:])"
      ],
      "execution_count": null,
      "outputs": [
        {
          "output_type": "stream",
          "name": "stdout",
          "text": [
            "insiersci la frasewffwf wfw thfg ethd egeg ergrg \n",
            "['ethd', 'egeg', 'ergrg']\n"
          ]
        }
      ]
    },
    {
      "cell_type": "markdown",
      "metadata": {
        "id": "bRRYwya-j2YG"
      },
      "source": [
        "Esercizio 7"
      ]
    },
    {
      "cell_type": "code",
      "metadata": {
        "colab": {
          "base_uri": "https://localhost:8080/"
        },
        "id": "yrQ2BbQXj18u",
        "outputId": "7f052ec7-0b27-40b7-b27e-2bb1788fa977"
      },
      "source": [
        "frase = (input(\"insiersci la frase\"))\n",
        "lista = frase.split()\n",
        "l= len(lista)\n",
        "if(l<=5):\n",
        "  print(\"troppo corta\")\n",
        "elif (l >= 10):\n",
        "  print(\"troppo lunga\")\n",
        "else:\n",
        "  print(\"ok\") "
      ],
      "execution_count": null,
      "outputs": [
        {
          "output_type": "stream",
          "name": "stdout",
          "text": [
            "insiersci la frasefef fef eg g g gg g g g r g g g\n",
            "troppo lunga\n"
          ]
        }
      ]
    },
    {
      "cell_type": "markdown",
      "metadata": {
        "id": "Sqv-dCEalJ2B"
      },
      "source": [
        "Eserczio 8\n"
      ]
    },
    {
      "cell_type": "code",
      "metadata": {
        "colab": {
          "base_uri": "https://localhost:8080/"
        },
        "id": "5FJPM8WTlJRs",
        "outputId": "5cac8431-ede2-49c1-8ddb-198f25fcd2fe"
      },
      "source": [
        "a = 0 \n",
        "for i in range(10):\n",
        " a= a + int(input(\"inserisci numero\"))\n",
        "media = a/10\n",
        "print(media)\n",
        "\n"
      ],
      "execution_count": null,
      "outputs": [
        {
          "output_type": "stream",
          "name": "stdout",
          "text": [
            "inserisci numero1\n",
            "inserisci numero2\n",
            "inserisci numero3\n",
            "inserisci numero4\n",
            "inserisci numero5\n",
            "inserisci numero6\n",
            "inserisci numero7\n",
            "inserisci numero8\n",
            "inserisci numero9\n",
            "inserisci numero5\n",
            "5.0\n"
          ]
        }
      ]
    },
    {
      "cell_type": "markdown",
      "metadata": {
        "id": "x6Icu5u8m_x3"
      },
      "source": [
        "Esercizio 9"
      ]
    },
    {
      "cell_type": "code",
      "metadata": {
        "colab": {
          "base_uri": "https://localhost:8080/"
        },
        "id": "ml0wvxfWnort",
        "outputId": "49fba353-5806-481e-fb9e-8eb3ea9f4eeb"
      },
      "source": [
        "def pari(n):\n",
        "  if(n%2==0):\n",
        "    return True\n",
        "  else:\n",
        "    return False\n",
        "\n",
        "    \n",
        "a= int(input(\"inserisci numero\"))\n",
        "if(pari(a)==True):\n",
        "  print(\"pari\")\n",
        "else:\n",
        "  print(\"dispari\")"
      ],
      "execution_count": null,
      "outputs": [
        {
          "output_type": "stream",
          "name": "stdout",
          "text": [
            "inserisci numero4\n",
            "pari\n"
          ]
        }
      ]
    }
  ]
}