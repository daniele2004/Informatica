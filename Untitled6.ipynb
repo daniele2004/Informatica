{
  "nbformat": 4,
  "nbformat_minor": 0,
  "metadata": {
    "colab": {
      "name": "Untitled6.ipynb",
      "provenance": []
    },
    "kernelspec": {
      "name": "python3",
      "display_name": "Python 3"
    },
    "language_info": {
      "name": "python"
    }
  },
  "cells": [
    {
      "cell_type": "markdown",
      "metadata": {
        "id": "wULuL-Ef6lV_"
      },
      "source": [
        "\n",
        "ESRCIZIO 1"
      ]
    },
    {
      "cell_type": "code",
      "metadata": {
        "id": "VD18e9t5zd0Q"
      },
      "source": [
        "def max(x, y):\n",
        "  if x > y:\n",
        "    return x\n",
        "  else:\n",
        "    return y\n",
        "n1 = int(input(\"Inserire il primo numero: \"))\n",
        "n2 = int(input(\"Inserire il secondo numero: \"))\n",
        "n3 = int(input(\"Inserire il terzo numero: \"))\n",
        "print(max(n1, max(n2,n3)))"
      ],
      "execution_count": null,
      "outputs": []
    },
    {
      "cell_type": "markdown",
      "metadata": {
        "id": "jVn8La7w6omM"
      },
      "source": [
        "ESERCIZIO 2"
      ]
    },
    {
      "cell_type": "code",
      "metadata": {
        "id": "ZaWxQ7pE6PPn"
      },
      "source": [
        "def sommaLista(lst1):\n",
        "  sum = 0\n",
        "  for i in range(0, len(lst1)):\n",
        "    sum = sum + lst1[i]\n",
        "  return sum\n",
        "lst1 = [int(n) for n in input(\"Inserire i valori nella list: \").split()]\n",
        "print(sommaLista(lst1))"
      ],
      "execution_count": null,
      "outputs": []
    },
    {
      "cell_type": "code",
      "metadata": {
        "id": "40kgbUDh6s__"
      },
      "source": [
        "ESERCIZIO 3"
      ],
      "execution_count": null,
      "outputs": []
    },
    {
      "cell_type": "code",
      "metadata": {
        "id": "qEk9a4K36V6E"
      },
      "source": [
        "num1 = sommaLista(list(map(int, input(\"Inserire i valori nella prima lista: \").split())))\n",
        "num2 = sommaLista(list(map(int, input(\"Inserire i valori nella seconda lista: \").split())))\n",
        "num3 = sommaLista(list(map(int, input(\"Inserire i valori nella terza lista: \").split())))\n",
        "va = max(num1, max(num2, num3))\n",
        "print(va)"
      ],
      "execution_count": null,
      "outputs": []
    },
    {
      "cell_type": "markdown",
      "metadata": {
        "id": "AVvU_eck6vuT"
      },
      "source": [
        "ESERCIZIO 4"
      ]
    },
    {
      "cell_type": "code",
      "metadata": {
        "id": "kaxIM_Xh6aOe"
      },
      "source": [
        "def controlla(n, e1, e2):\n",
        "  if n > e1 and n < e2:\n",
        "    return True\n",
        "  else:\n",
        "    return False\n",
        "    \n",
        "n = int(input(\"Inserire un valore: \"))\n",
        "min = int(input(\"Inserire l'estremo minore: \"))\n",
        "mag = int(input(\"Inserire l'estremo maggiore: \"))\n",
        "print(controlla(n, min, mag))"
      ],
      "execution_count": null,
      "outputs": []
    },
    {
      "cell_type": "markdown",
      "metadata": {
        "id": "Q39Ot5b36-Vo"
      },
      "source": [
        "ESERCIZIO 5"
      ]
    },
    {
      "cell_type": "code",
      "metadata": {
        "id": "9XXdpzJU6jWu"
      },
      "source": [
        "lst1 = [int(n) for n in input(\"Inserire i valori nella lista: \").split()]\n",
        "lst2 = []\n",
        "e1 = int(input(\"Inserire l'estremo minore: \"))\n",
        "e2 = int(input(\"Inserire l'estremo maggiore: \"))\n",
        "for i in range(0, len(lst1)+1):\n",
        "  if i > e1 and i < e2:\n",
        "    lst2.append(i)\n",
        "print(lst2)"
      ],
      "execution_count": null,
      "outputs": []
    }
  ]
}