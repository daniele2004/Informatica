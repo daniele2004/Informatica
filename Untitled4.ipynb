{
  "nbformat": 4,
  "nbformat_minor": 0,
  "metadata": {
    "colab": {
      "name": "Untitled4.ipynb",
      "provenance": []
    },
    "kernelspec": {
      "name": "python3",
      "display_name": "Python 3"
    },
    "language_info": {
      "name": "python"
    }
  },
  "cells": [
    {
      "cell_type": "markdown",
      "metadata": {
        "id": "6faWfe_5qg7c"
      },
      "source": [
        "ES 1"
      ]
    },
    {
      "cell_type": "code",
      "metadata": {
        "id": "DKJNl2GeLTpa"
      },
      "source": [
        "import math\n",
        "x,y,= int(input('inserire le prime coordinate')),int(input('inserire le prime coordinate'))\n",
        "x1,y1,= int(input('inserire le seconde coordinate')),int(input('inserire le seconde coordinate'))\n",
        "print (math.sqrt((x1-x)**2+(y1-1)**2))"
      ],
      "execution_count": null,
      "outputs": []
    },
    {
      "cell_type": "markdown",
      "metadata": {
        "id": "EuwVzC43gqXH"
      },
      "source": [
        "ES 2"
      ]
    },
    {
      "cell_type": "code",
      "metadata": {
        "id": "WTlr6vncLpgQ"
      },
      "source": [
        "x,y, z= int(input('inserire le prima x')),int(input('inserire le prima y')), int(input('inserire le prima z'))\n",
        "if x+y > z and x+z > y and z+y > x:\n",
        "  print(\"si, è un triangolo\")\n",
        "  else:\n",
        "    print(\"no; non\")"
      ],
      "execution_count": null,
      "outputs": []
    },
    {
      "cell_type": "markdown",
      "metadata": {
        "id": "DN-TguLQgrln"
      },
      "source": [
        "ES 3"
      ]
    },
    {
      "cell_type": "code",
      "metadata": {
        "id": "ze17ULAhNhVS"
      },
      "source": [
        "lst=[int(n) for n in input(\"inserisci numeri: \").split()]\n",
        "lst1=[]\n",
        "val = int(input(\"inerisci valore: \"))\n",
        "i=0\n",
        "while val != lst[i] and i < len(lst):\n",
        "  lst1.append(lst[i])\n",
        "  i += 1\n",
        "print(lst)\n",
        "print(lst1)\n",
        "\n",
        "\n",
        "\n"
      ],
      "execution_count": null,
      "outputs": []
    },
    {
      "cell_type": "markdown",
      "metadata": {
        "id": "rl1MmIvhqvVw"
      },
      "source": [
        "ES 4"
      ]
    },
    {
      "cell_type": "code",
      "metadata": {
        "id": "-WJ544d5f5rI"
      },
      "source": [
        "lst = [int(n) for n in input(\"inserisci numeri: \").split()]\n",
        "lst = list(set(lst)) #toglie i duplicati\n",
        "print len(lst) != len(numSetted)\n"
      ],
      "execution_count": null,
      "outputs": []
    },
    {
      "cell_type": "markdown",
      "metadata": {
        "id": "NoLmxEzfq4r_"
      },
      "source": [
        "ES 5"
      ]
    },
    {
      "cell_type": "code",
      "metadata": {
        "id": "DcgDRCKLgHCl"
      },
      "source": [
        "lst = [int(n) for n in input(\"inserisci numeri: \").split()]\n",
        "pos = int(input(\"inserire una posizione: \"))    #posizione dell utente\n",
        "lst1 = lst[pos:]\n",
        "lst2 = lst[:pos]\n",
        "print(lst2) # da a\n",
        "print(lstt2) # a da"
      ],
      "execution_count": null,
      "outputs": []
    },
    {
      "cell_type": "markdown",
      "metadata": {
        "id": "TdBqLaCNrC23"
      },
      "source": [
        "ES 6"
      ]
    },
    {
      "cell_type": "code",
      "metadata": {
        "id": "b10TqgF6jJYe"
      },
      "source": [
        "lst = [[2,3,4,], [1, 3, 4], [5, 1, 5], [1, 2, 4]] #lista di liste\n",
        "lst1 = [1, 3, 4]\n",
        "\n",
        "if lst1 in lst: \n",
        "\tprint(\"True\") \n",
        "else: \n",
        "\tprint(\"False\")"
      ],
      "execution_count": null,
      "outputs": []
    },
    {
      "cell_type": "markdown",
      "metadata": {
        "id": "yuk2c4vbkBsP"
      },
      "source": [
        "ES 7"
      ]
    },
    {
      "cell_type": "code",
      "metadata": {
        "id": "UQawsLGEkCTM"
      },
      "source": [
        "inp = int(input(\"numero: \"))\n",
        "\n",
        "tabellina = {}\n",
        "for i in range(1, 11):\n",
        "    tabellina[str(inp) + \" x \" + str(i)] = inp*i\n",
        "\n",
        "print(tabellina)"
      ],
      "execution_count": null,
      "outputs": []
    },
    {
      "cell_type": "markdown",
      "metadata": {
        "id": "0VkCQozmkl4d"
      },
      "source": [
        "ES 8"
      ]
    },
    {
      "cell_type": "code",
      "metadata": {
        "id": "TrlB4nUUkoLl"
      },
      "source": [
        "import collections\n",
        "sentence = input()\n",
        "words = sentence.split() #split divide le parole \n",
        "   word_counts = collections.Counter(words)# counter crea un dizionario nella chiave mette le parole splittate nel valore ci mette quante volte la parola e uscita\n",
        "for word, count in word_counts.items(): # items richiama i valori e le chiavi\n",
        "    print('la parola \"%s\" compare %d volte.' % (word, count))"
      ],
      "execution_count": null,
      "outputs": []
    },
    {
      "cell_type": "markdown",
      "metadata": {
        "id": "ZSZ11Hg3mNv0"
      },
      "source": [
        "ES 9"
      ]
    },
    {
      "cell_type": "code",
      "metadata": {
        "id": "9pVZhHxrmOwr"
      },
      "source": [
        "d = [ #lista di dizionari\n",
        "     { \"cognome\": \"Bianchi\", \"Voto\": 6 },\n",
        "     { \"cognome\": \"Neri\", \"Voto\": 8 },\n",
        "     { \"cognome\": \"Gialli\", \"Voto\": 3 },\n",
        "     { \"cognome\": \"Rossi\", \"Voto\": 4 },\n",
        "     { \"cognome\": \"Verdi\", \"Voto\": 10 }\n",
        " ]\n",
        "for i in d:\n",
        "    if i['Voto'] >= 6:\n",
        "        print(i[\"cognome\"])"
      ],
      "execution_count": null,
      "outputs": []
    }
  ]
}